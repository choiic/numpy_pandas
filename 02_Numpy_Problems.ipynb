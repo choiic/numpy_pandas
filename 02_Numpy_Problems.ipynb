{
 "cells": [
  {
   "cell_type": "code",
   "execution_count": 63,
   "metadata": {},
   "outputs": [],
   "source": [
    "import numpy as np\n",
    "from IPython.display import display"
   ]
  },
  {
   "cell_type": "code",
   "execution_count": 64,
   "metadata": {},
   "outputs": [
    {
     "data": {
      "text/plain": [
       "array([[0., 0., 0., 0., 0., 0., 0., 0., 0., 0.],\n",
       "       [0., 1., 1., 1., 1., 1., 1., 1., 1., 0.],\n",
       "       [0., 1., 1., 1., 1., 1., 1., 1., 1., 0.],\n",
       "       [0., 1., 1., 1., 1., 1., 1., 1., 1., 0.],\n",
       "       [0., 1., 1., 1., 1., 1., 1., 1., 1., 0.],\n",
       "       [0., 1., 1., 1., 1., 1., 1., 1., 1., 0.],\n",
       "       [0., 1., 1., 1., 1., 1., 1., 1., 1., 0.],\n",
       "       [0., 1., 1., 1., 1., 1., 1., 1., 1., 0.],\n",
       "       [0., 1., 1., 1., 1., 1., 1., 1., 1., 0.],\n",
       "       [0., 0., 0., 0., 0., 0., 0., 0., 0., 0.]])"
      ]
     },
     "execution_count": 64,
     "metadata": {},
     "output_type": "execute_result"
    }
   ],
   "source": [
    "# Quiz 1 : 맨 가장자리는 모두 0, 내부는 모두 1인 10 by 10 행렬을 구하여라.\n",
    "X = np.zeros((10, 10))\n",
    "X[1:9, 1:9] = 1\n",
    "X"
   ]
  },
  {
   "cell_type": "code",
   "execution_count": 65,
   "metadata": {},
   "outputs": [
    {
     "data": {
      "text/plain": [
       "array([[-3,  5],\n",
       "       [ 1, -2]])"
      ]
     },
     "metadata": {},
     "output_type": "display_data"
    },
    {
     "data": {
      "text/plain": [
       "array([[-3,  9],\n",
       "       [ 1,  1]])"
      ]
     },
     "metadata": {},
     "output_type": "display_data"
    },
    {
     "data": {
      "text/plain": [
       "array([[-6, 14],\n",
       "       [ 2, -1]])"
      ]
     },
     "metadata": {},
     "output_type": "display_data"
    },
    {
     "data": {
      "text/plain": [
       "array([[ 1.5, -2.5],\n",
       "       [-0.5,  1. ]])"
      ]
     },
     "metadata": {},
     "output_type": "display_data"
    },
    {
     "data": {
      "text/plain": [
       "array([[-16. ,  29. ],\n",
       "       [  3.5,  -6. ]])"
      ]
     },
     "metadata": {},
     "output_type": "display_data"
    }
   ],
   "source": [
    "# Quiz 2 : 행렬 A, B에 대하여 ((A + B) X (-A / 2 )) 를 in place (without copy)로 계산\n",
    "# -9~9까지의 정수 중 4개를 임의로 선택하여 2x2 행렬 2개 생성 (A, B)\n",
    "random_generator = np.random.RandomState(42)\n",
    "A = random_generator.randint(-9, 10, 4).reshape((2, 2))\n",
    "B = random_generator.randint(-9, 10, 4).reshape((2, 2))\n",
    "C = np.zeros((2, 2))\n",
    "display(A)\n",
    "display(B)\n",
    "# A, B에 대한 연산 시행 (여기서 x 연산은 dot으로 계산)\n",
    "display(np.add(A, B))\n",
    "display(np.divide(-A, 2))\n",
    "np.dot(np.add(A, B), np.divide(-A, 2), out=C)\n",
    "display(C)"
   ]
  },
  {
   "cell_type": "code",
   "execution_count": 66,
   "metadata": {},
   "outputs": [
    {
     "data": {
      "text/plain": [
       "array([1.1, 2.2, 1.3, 1.4, 2.5])"
      ]
     },
     "execution_count": 66,
     "metadata": {},
     "output_type": "execute_result"
    }
   ],
   "source": [
    "# Quiz 3 : 3개의 배열이 주어졌을 때 아래 조건에 따라 새롭게 생성되는 배열을 구하시오.\n",
    "# cond[i]가 true이면 xarr[i]를 선택\n",
    "# cond[i]가 false이면 yarr[i]를 선택\n",
    "xarr = np.array([1.1, 1.2, 1.3, 1.4, 1.5])\n",
    "yarr = np.array([2.1, 2.2, 2.3, 2.4, 2.5])\n",
    "cond = np.array([True, False, True, True, False])\n",
    "np.where(cond, xarr, yarr)"
   ]
  },
  {
   "cell_type": "code",
   "execution_count": 67,
   "metadata": {},
   "outputs": [
    {
     "data": {
      "text/plain": [
       "array([ 0,  1,  2,  3,  4, -5, -6, -7, -8, -9, 10])"
      ]
     },
     "execution_count": 67,
     "metadata": {},
     "output_type": "execute_result"
    }
   ],
   "source": [
    "# Quiz 4 : 크기가 11인 배열이 다음과 같이 주어졌을 때, 5번째 원소부터 9번째 원소까지를 음수로 바꾸어 보시오.\n",
    "# given Array\n",
    "quiz4Arr = np.arange(11)\n",
    "# processing\n",
    "np.multiply(quiz4Arr[5:10], -1, out=quiz4Arr[5:10])\n",
    "quiz4Arr"
   ]
  },
  {
   "cell_type": "code",
   "execution_count": 68,
   "metadata": {},
   "outputs": [],
   "source": [
    "# Quiz 5 : 난수생성기를 사용하여 크기가 0부터 9까지의 숫자로 구성된, 크기가 20인 배열을 생성하고, 배열의 최대값을 0으로 만들어라.\n"
   ]
  }
 ],
 "metadata": {
  "kernelspec": {
   "display_name": "Python 3",
   "language": "python",
   "name": "python3"
  },
  "language_info": {
   "codemirror_mode": {
    "name": "ipython",
    "version": 3
   },
   "file_extension": ".py",
   "mimetype": "text/x-python",
   "name": "python",
   "nbconvert_exporter": "python",
   "pygments_lexer": "ipython3",
   "version": "3.7.1"
  }
 },
 "nbformat": 4,
 "nbformat_minor": 2
}
