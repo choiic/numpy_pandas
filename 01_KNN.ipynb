{
 "cells": [
  {
   "cell_type": "markdown",
   "metadata": {},
   "source": [
    "# KNN (K-Nearest Neighbor)\n",
    "- Implementation KNN with Numpy"
   ]
  },
  {
   "cell_type": "code",
   "execution_count": 3,
   "metadata": {},
   "outputs": [],
   "source": [
    "# import modules\n",
    "import numpy as np\n",
    "import matplotlib.pyplot as plt"
   ]
  },
  {
   "cell_type": "code",
   "execution_count": 4,
   "metadata": {},
   "outputs": [
    {
     "data": {
      "text/plain": [
       "array([[0.37454012, 0.95071431],\n",
       "       [0.73199394, 0.59865848],\n",
       "       [0.15601864, 0.15599452],\n",
       "       [0.05808361, 0.86617615],\n",
       "       [0.60111501, 0.70807258],\n",
       "       [0.02058449, 0.96990985],\n",
       "       [0.83244264, 0.21233911],\n",
       "       [0.18182497, 0.18340451],\n",
       "       [0.30424224, 0.52475643],\n",
       "       [0.43194502, 0.29122914]])"
      ]
     },
     "execution_count": 4,
     "metadata": {},
     "output_type": "execute_result"
    }
   ],
   "source": [
    "# create 10*2 array with Uniform distribution\n",
    "random_generator = np.random.RandomState(42)\n",
    "dataset = random_generator.rand(10, 2)\n",
    "dataset"
   ]
  },
  {
   "cell_type": "code",
   "execution_count": 5,
   "metadata": {},
   "outputs": [
    {
     "data": {
      "text/plain": [
       "<matplotlib.collections.PathCollection at 0x281fbd2a208>"
      ]
     },
     "execution_count": 5,
     "metadata": {},
     "output_type": "execute_result"
    },
    {
     "data": {
      "image/png": "[encoded data removed]",
      "text/plain": [
       "<Figure size 432x288 with 1 Axes>"
      ]
     },
     "metadata": {
      "needs_background": "light"
     },
     "output_type": "display_data"
    }
   ],
   "source": [
    "# plotting\n",
    "x, y = dataset[:, 0], dataset[:, 1]\n",
    "plt.scatter(x, y)"
   ]
  },
  {
   "cell_type": "markdown",
   "metadata": {},
   "source": [
    "---\n",
    "## Euclidean Distance\n",
    "두 점 $v_1 = (x_1, y_1), v_2 = (x_2, y_2)$가 주어졌을 때, \n",
    "\n",
    "두 점 사이의 거리 $\\text{dist}(v_1, v_2)=\\sqrt{(x_1-x_2)^2+(y_1-y_2)^2}$이다.\n",
    "\n",
    "dataset은 $\\{v_1, v_2, ..., v_10\\}$이고, 가까운 데이터와의 거리를 재기 위해서,\n",
    " - $v_1$에 대하여, $\\text{dist}(v_1, v_2), \\text{dist}(v_1, v_3), ..., \\text{dist}(v_1, v_{10})$\n",
    " - $v_2$에 대하여, $\\text{dist}(v_2, v_1), \\text{dist}(v_2, v_3), ..., \\text{dist}(v_2, v_{10})$\n",
    " - $v_{10}$에 대하여, $\\text{dist}(v_{10}, v_1), \\text{dist}(v_{10}, v_2), ..., \\text{dist}(v_{10}, v_1)$\n",
    " \n",
    "를 각각 구해야 한다.\n",
    "\n",
    "이를 계산하기 위해서 broadcasting 기능을 활용한다."
   ]
  },
  {
   "cell_type": "markdown",
   "metadata": {},
   "source": [
    "# 1-1. Vector간 Difference"
   ]
  },
  {
   "cell_type": "code",
   "execution_count": 6,
   "metadata": {},
   "outputs": [
    {
     "data": {
      "text/plain": [
       "array([[[0.37454012, 0.95071431]],\n",
       "\n",
       "       [[0.73199394, 0.59865848]],\n",
       "\n",
       "       [[0.15601864, 0.15599452]],\n",
       "\n",
       "       [[0.05808361, 0.86617615]],\n",
       "\n",
       "       [[0.60111501, 0.70807258]],\n",
       "\n",
       "       [[0.02058449, 0.96990985]],\n",
       "\n",
       "       [[0.83244264, 0.21233911]],\n",
       "\n",
       "       [[0.18182497, 0.18340451]],\n",
       "\n",
       "       [[0.30424224, 0.52475643]],\n",
       "\n",
       "       [[0.43194502, 0.29122914]]])"
      ]
     },
     "execution_count": 6,
     "metadata": {},
     "output_type": "execute_result"
    }
   ],
   "source": [
    "# 기준이 되는 행을 개별 평면으로 할당함\n",
    "row = dataset.reshape(10, 1, 2)\n",
    "row"
   ]
  },
  {
   "cell_type": "code",
   "execution_count": 7,
   "metadata": {},
   "outputs": [
    {
     "data": {
      "text/plain": [
       "array([[[0.37454012, 0.95071431],\n",
       "        [0.73199394, 0.59865848],\n",
       "        [0.15601864, 0.15599452],\n",
       "        [0.05808361, 0.86617615],\n",
       "        [0.60111501, 0.70807258],\n",
       "        [0.02058449, 0.96990985],\n",
       "        [0.83244264, 0.21233911],\n",
       "        [0.18182497, 0.18340451],\n",
       "        [0.30424224, 0.52475643],\n",
       "        [0.43194502, 0.29122914]]])"
      ]
     },
     "execution_count": 7,
     "metadata": {},
     "output_type": "execute_result"
    }
   ],
   "source": [
    "# 기준행과 연산을 해야 하는 데이터셋을 할당함\n",
    "other_rows = dataset.reshape(1, 10, 2)\n",
    "other_rows"
   ]
  },
  {
   "cell_type": "code",
   "execution_count": 8,
   "metadata": {},
   "outputs": [
    {
     "name": "stdout",
     "output_type": "stream",
     "text": [
      "row Shape (10, 1, 2)\n",
      "other_rows Shape (1, 10, 2)\n"
     ]
    }
   ],
   "source": [
    "print(\"row Shape\", row.shape)\n",
    "print(\"other_rows Shape\", other_rows.shape)"
   ]
  },
  {
   "cell_type": "code",
   "execution_count": 9,
   "metadata": {},
   "outputs": [
    {
     "data": {
      "text/plain": [
       "array([[[ 0.        ,  0.        ],\n",
       "        [-0.35745382,  0.35205582],\n",
       "        [ 0.21852148,  0.79471979],\n",
       "        [ 0.31645651,  0.08453816],\n",
       "        [-0.22657489,  0.24264173],\n",
       "        [ 0.35395562, -0.01919555],\n",
       "        [-0.45790252,  0.7383752 ],\n",
       "        [ 0.19271515,  0.7673098 ],\n",
       "        [ 0.07029788,  0.42595787],\n",
       "        [-0.0574049 ,  0.65948517]],\n",
       "\n",
       "       [[ 0.35745382, -0.35205582],\n",
       "        [ 0.        ,  0.        ],\n",
       "        [ 0.5759753 ,  0.44266396],\n",
       "        [ 0.67391033, -0.26751766],\n",
       "        [ 0.13087893, -0.10941409],\n",
       "        [ 0.71140945, -0.37125137],\n",
       "        [-0.1004487 ,  0.38631937],\n",
       "        [ 0.55016897,  0.41525397],\n",
       "        [ 0.4277517 ,  0.07390205],\n",
       "        [ 0.30004892,  0.30742934]]])"
      ]
     },
     "execution_count": 9,
     "metadata": {},
     "output_type": "execute_result"
    }
   ],
   "source": [
    "differences = row - other_rows\n",
    "differences[:2]"
   ]
  },
  {
   "cell_type": "code",
   "execution_count": 10,
   "metadata": {},
   "outputs": [
    {
     "data": {
      "text/plain": [
       "(10, 10, 2)"
      ]
     },
     "execution_count": 10,
     "metadata": {},
     "output_type": "execute_result"
    }
   ],
   "source": [
    "differences.shape"
   ]
  },
  {
   "cell_type": "markdown",
   "metadata": {},
   "source": [
    "## broadcasting\n",
    "- row        : (10, 1, 2) → (10, 10, 2)\n",
    "- other_rows : (1, 10, 2) → (10, 10, 2)\n",
    "\n",
    "\n",
    "<img src=\"./ref/KNN_braodcasting_image.jpg\">"
   ]
  },
  {
   "cell_type": "markdown",
   "metadata": {},
   "source": [
    "# 1-2. differences의 제곱"
   ]
  },
  {
   "cell_type": "code",
   "execution_count": 22,
   "metadata": {},
   "outputs": [
    {
     "data": {
      "text/plain": [
       "array([[[0.00000000e+00, 0.00000000e+00],\n",
       "        [1.27773236e-01, 1.23943302e-01],\n",
       "        [4.77516365e-02, 6.31579538e-01],\n",
       "        [1.00144721e-01, 7.14670060e-03],\n",
       "        [5.13361821e-02, 5.88750085e-02],\n",
       "        [1.25284584e-01, 3.68468977e-04],\n",
       "        [2.09674720e-01, 5.45197930e-01],\n",
       "        [3.71391297e-02, 5.88764324e-01],\n",
       "        [4.94179135e-03, 1.81440111e-01],\n",
       "        [3.29532252e-03, 4.34920684e-01]],\n",
       "\n",
       "       [[1.27773236e-01, 1.23943302e-01],\n",
       "        [0.00000000e+00, 0.00000000e+00],\n",
       "        [3.31747548e-01, 1.95951385e-01],\n",
       "        [4.54155132e-01, 7.15656993e-02],\n",
       "        [1.71292943e-02, 1.19714439e-02],\n",
       "        [5.06103402e-01, 1.37827578e-01],\n",
       "        [1.00899411e-02, 1.49242658e-01],\n",
       "        [3.02685901e-01, 1.72435863e-01],\n",
       "        [1.82971516e-01, 5.46151337e-03],\n",
       "        [9.00293563e-02, 9.45128016e-02]]])"
      ]
     },
     "execution_count": 22,
     "metadata": {},
     "output_type": "execute_result"
    }
   ],
   "source": [
    "sq_differences = differences ** 2\n",
    "sq_differences[:2]"
   ]
  },
  {
   "cell_type": "markdown",
   "metadata": {},
   "source": [
    "# 1-3. 제곱의 합"
   ]
  },
  {
   "cell_type": "code",
   "execution_count": 23,
   "metadata": {},
   "outputs": [
    {
     "data": {
      "text/plain": [
       "array([[0.        , 0.25171654, 0.67933117, 0.10729142, 0.11021119,\n",
       "        0.12565305, 0.75487265, 0.62590345, 0.1863819 , 0.43821601],\n",
       "       [0.25171654, 0.        , 0.52769893, 0.52572083, 0.02910074,\n",
       "        0.64393098, 0.1593326 , 0.47512176, 0.18843303, 0.18454216]])"
      ]
     },
     "execution_count": 23,
     "metadata": {},
     "output_type": "execute_result"
    }
   ],
   "source": [
    "sq_differences = sq_differences.sum(-1)\n",
    "sq_differences[:2]"
   ]
  },
  {
   "cell_type": "markdown",
   "metadata": {},
   "source": [
    "# 1-4. root"
   ]
  },
  {
   "cell_type": "code",
   "execution_count": 24,
   "metadata": {},
   "outputs": [
    {
     "data": {
      "text/plain": [
       "array([[0.        , 0.5017136 , 0.82421549, 0.32755369, 0.33198071,\n",
       "        0.35447574, 0.86883407, 0.7911406 , 0.4317197 , 0.66197886],\n",
       "       [0.5017136 , 0.        , 0.72642889, 0.72506609, 0.17058938,\n",
       "        0.8024531 , 0.39916488, 0.68929077, 0.43408873, 0.4295837 ]])"
      ]
     },
     "execution_count": 24,
     "metadata": {},
     "output_type": "execute_result"
    }
   ],
   "source": [
    "distances = np.sqrt(sq_differences)\n",
    "distances[:2]"
   ]
  },
  {
   "cell_type": "code",
   "execution_count": 27,
   "metadata": {},
   "outputs": [
    {
     "data": {
      "text/plain": [
       "array([[0, 3, 4, 5, 8, 1, 9, 7, 2, 6],\n",
       "       [1, 4, 6, 9, 8, 0, 7, 3, 2, 5],\n",
       "       [2, 7, 9, 8, 6, 4, 3, 1, 0, 5],\n",
       "       [3, 5, 0, 8, 4, 9, 7, 2, 1, 6],\n",
       "       [4, 1, 0, 8, 9, 6, 3, 5, 7, 2],\n",
       "       [5, 3, 0, 8, 4, 9, 1, 7, 2, 6],\n",
       "       [6, 1, 9, 4, 8, 7, 2, 0, 3, 5],\n",
       "       [7, 2, 9, 8, 6, 4, 1, 3, 0, 5],\n",
       "       [8, 9, 4, 7, 2, 3, 0, 1, 5, 6],\n",
       "       [9, 8, 7, 2, 6, 1, 4, 0, 3, 5]], dtype=int64)"
      ]
     },
     "execution_count": 27,
     "metadata": {},
     "output_type": "execute_result"
    }
   ],
   "source": [
    "nearest_o = np.argsort(distances, axis=1)\n",
    "nearest_o"
   ]
  },
  {
   "cell_type": "markdown",
   "metadata": {},
   "source": [
    "- 두번째 결과는 [1, 4, 6, 9, 8, 0, 7, 3, 2, 5]\n",
    "  - 가장 가까운 entry index = 1 (자기자신)\n",
    "  - 두번째로 가까운 entry index = 4 (자신을 제외한 가장 가까운 값)\n",
    "  \n",
    "  \n",
    "- nearest 모든행의 첫번째 값은 자기자신을 나타내는 인덱스이므로\n",
    "  - index 1~k+1까지의 값을 추출하면 인접하는 k개의 점을 구할 수 있다."
   ]
  },
  {
   "cell_type": "markdown",
   "metadata": {},
   "source": [
    "# 1-5. $k$개 이웃 선정"
   ]
  },
  {
   "cell_type": "code",
   "execution_count": 28,
   "metadata": {},
   "outputs": [
    {
     "data": {
      "text/plain": [
       "array([[3, 4],\n",
       "       [4, 6],\n",
       "       [7, 9],\n",
       "       [5, 0],\n",
       "       [1, 0],\n",
       "       [3, 0],\n",
       "       [1, 9],\n",
       "       [2, 9],\n",
       "       [9, 4],\n",
       "       [8, 7]], dtype=int64)"
      ]
     },
     "execution_count": 28,
     "metadata": {},
     "output_type": "execute_result"
    }
   ],
   "source": [
    "# k = 2\n",
    "k = 2\n",
    "knn = nearest_o[:, 1:k+1]\n",
    "knn"
   ]
  },
  {
   "cell_type": "markdown",
   "metadata": {},
   "source": [
    "# 1-6. Plot\n",
    "- $v1$과 가장 가까운 데이터는 $v4$, $v5$"
   ]
  },
  {
   "cell_type": "code",
   "execution_count": 36,
   "metadata": {},
   "outputs": [
    {
     "data": {
      "text/plain": [
       "<matplotlib.collections.PathCollection at 0x281fc2be7b8>"
      ]
     },
     "execution_count": 36,
     "metadata": {},
     "output_type": "execute_result"
    },
    {
     "data": {
      "image/png": "[encoded data removed]",
      "text/plain": [
       "<Figure size 432x288 with 1 Axes>"
      ]
     },
     "metadata": {
      "needs_background": "light"
     },
     "output_type": "display_data"
    }
   ],
   "source": [
    "plt.scatter(x, y, s=50)\n",
    "plt.scatter(dataset[0][0], dataset[0][1], c='cyan', s=50) # v1\n",
    "nearest = dataset[knn[0]] # v4, v5\n",
    "plt.scatter(nearest[:, 0], nearest[:, 1], c='r', s=50)"
   ]
  },
  {
   "cell_type": "markdown",
   "metadata": {},
   "source": [
    "- $v10$과 가장 가까운 데이터는 $v9$, $v8$"
   ]
  },
  {
   "cell_type": "code",
   "execution_count": 37,
   "metadata": {},
   "outputs": [
    {
     "data": {
      "text/plain": [
       "<matplotlib.collections.PathCollection at 0x281fc250cf8>"
      ]
     },
     "execution_count": 37,
     "metadata": {},
     "output_type": "execute_result"
    },
    {
     "data": {
      "image/png": "[encoded data removed]",
      "text/plain": [
       "<Figure size 432x288 with 1 Axes>"
      ]
     },
     "metadata": {
      "needs_background": "light"
     },
     "output_type": "display_data"
    }
   ],
   "source": [
    "plt.scatter(x, y, s=50)\n",
    "plt.scatter(dataset[9][0], dataset[9][1], c='k', s=50) # v10\n",
    "nearest = dataset[knn[9]] # v9, v8\n",
    "plt.scatter(nearest[:, 0], nearest[:, 1], c='r', s=50)"
   ]
  },
  {
   "cell_type": "markdown",
   "metadata": {},
   "source": [
    "# 2. 함수로 정의"
   ]
  },
  {
   "cell_type": "code",
   "execution_count": 62,
   "metadata": {},
   "outputs": [],
   "source": [
    "def knn(dataset, k):\n",
    "    dist = np.sqrt(np.sum((dataset[:, np.newaxis, :] - dataset[np.newaxis, :, :]) ** 2, axis=-1))\n",
    "    near = np.argpartition(dist, k+1, axis=1)\n",
    "    size = len(dataset)\n",
    "    mask = np.arange(size).reshape(size, 1)\n",
    "    result = near[near!=mask].reshape(size, -1)\n",
    "    \n",
    "    return result[:, :k]"
   ]
  },
  {
   "cell_type": "code",
   "execution_count": 63,
   "metadata": {},
   "outputs": [
    {
     "data": {
      "text/plain": [
       "array([[3, 4],\n",
       "       [4, 6],\n",
       "       [7, 9],\n",
       "       [5, 0],\n",
       "       [1, 0],\n",
       "       [3, 0],\n",
       "       [1, 9],\n",
       "       [2, 9],\n",
       "       [9, 4],\n",
       "       [8, 7]], dtype=int64)"
      ]
     },
     "execution_count": 63,
     "metadata": {},
     "output_type": "execute_result"
    }
   ],
   "source": [
    "knn(dataset, 2)"
   ]
  }
 ],
 "metadata": {
  "kernelspec": {
   "display_name": "Python 3",
   "language": "python",
   "name": "python3"
  },
  "language_info": {
   "codemirror_mode": {
    "name": "ipython",
    "version": 3
   },
   "file_extension": ".py",
   "mimetype": "text/x-python",
   "name": "python",
   "nbconvert_exporter": "python",
   "pygments_lexer": "ipython3",
   "version": "3.7.1"
  }
 },
 "nbformat": 4,
 "nbformat_minor": 2
}
